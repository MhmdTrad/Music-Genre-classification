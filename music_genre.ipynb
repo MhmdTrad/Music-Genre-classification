{
  "metadata": {
    "kernelspec": {
      "language": "python",
      "display_name": "Python 3",
      "name": "python3"
    },
    "language_info": {
      "name": "python",
      "version": "3.7.12",
      "mimetype": "text/x-python",
      "codemirror_mode": {
        "name": "ipython",
        "version": 3
      },
      "pygments_lexer": "ipython3",
      "nbconvert_exporter": "python",
      "file_extension": ".py"
    },
    "colab": {
      "provenance": [],
      "collapsed_sections": [
        "iGKX1LxfLIV7",
        "rqJjydWALIWG",
        "HgGLeQuvTF3b",
        "Jy-p0sT-iKvS",
        "BdNN-8rCiQR7",
        "ziD1aJcGLIWU",
        "DoCuN7KrjUzY",
        "gil3-U_4s6xT",
        "LIFpkSxfLIWN",
        "8wWZN__TCiOI",
        "6q7f5zfULIWZ",
        "djhT6gHxLIWb",
        "YwEXjdFuLIWc",
        "yKuMbarZLIW9",
        "gSlM0B95LIXG",
        "tCCfK6x2LIXg",
        "ZZZDo4IdLIXj",
        "ML6EAYkTLIXk",
        "RxFDytDNLIXl",
        "RubifX4TLIXo",
        "MEXf--DPLIXp",
        "vGhjssobLIXr",
        "7uBkmc8eLIXs",
        "9dcmHr7bLIXu"
      ]
    }
  },
  "nbformat_minor": 0,
  "nbformat": 4,
  "cells": [
    {
      "cell_type": "markdown",
      "source": [
        "# Import libraries"
      ],
      "metadata": {
        "id": "iGKX1LxfLIV7"
      }
    },
    {
      "cell_type": "code",
      "source": [
        "import pandas as pd \n",
        "import numpy as np\n",
        "\n",
        "import matplotlib.pyplot as plt\n",
        "import seaborn as sns\n",
        "\n",
        "from sklearn.preprocessing import OrdinalEncoder\n",
        "from sklearn.preprocessing import LabelEncoder\n",
        "from sklearn.impute import SimpleImputer\n",
        "from sklearn.pipeline import Pipeline\n",
        "from sklearn.preprocessing import StandardScaler,RobustScaler\n",
        "\n",
        "\n",
        "from sklearn.dummy import DummyClassifier\n",
        "from sklearn.linear_model import LogisticRegression\n",
        "from sklearn.linear_model import SGDClassifier,RidgeClassifier,Ridge\n",
        "from sklearn.neighbors import KNeighborsClassifier\n",
        "from sklearn.svm import SVC,LinearSVC\n",
        "from sklearn.naive_bayes import GaussianNB\n",
        "\n",
        "from sklearn.tree import  DecisionTreeClassifier\n",
        "\n",
        "\n",
        "from sklearn.ensemble import VotingClassifier\n",
        "from sklearn.ensemble import AdaBoostClassifier,RandomForestClassifier,BaggingClassifier,ExtraTreesClassifier,GradientBoostingClassifier\n",
        "from sklearn.ensemble import HistGradientBoostingClassifier,StackingClassifier\n",
        "\n",
        "from xgboost import XGBClassifier\n",
        "from lightgbm import LGBMClassifier\n",
        "\n",
        "from sklearn.model_selection import train_test_split\n",
        "from sklearn.metrics import accuracy_score,f1_score,precision_score,recall_score\n",
        "from sklearn.metrics import confusion_matrix\n",
        "from sklearn.metrics import classification_report\n",
        "\n",
        "\n",
        "from sklearn.model_selection import cross_val_score\n",
        "from sklearn.model_selection import GridSearchCV\n",
        "from sklearn.model_selection import RandomizedSearchCV\n",
        "from sklearn.model_selection import RepeatedStratifiedKFold"
      ],
      "metadata": {
        "_uuid": "8f2839f25d086af736a60e9eeb907d3b93b6e0e5",
        "_cell_guid": "b1076dfc-b9ad-4769-8c92-a6c4dae69d19",
        "execution": {
          "iopub.status.busy": "2022-12-31T07:52:15.945814Z",
          "iopub.execute_input": "2022-12-31T07:52:15.946263Z",
          "iopub.status.idle": "2022-12-31T07:52:19.068127Z",
          "shell.execute_reply.started": "2022-12-31T07:52:15.946177Z",
          "shell.execute_reply": "2022-12-31T07:52:19.066921Z"
        },
        "trusted": true,
        "id": "y_3tB0qwLIWB"
      },
      "execution_count": 1,
      "outputs": []
    },
    {
      "cell_type": "markdown",
      "source": [
        "# Loading the Data"
      ],
      "metadata": {
        "id": "rqJjydWALIWG"
      }
    },
    {
      "cell_type": "code",
      "source": [
        "data=pd.read_csv(\"train.csv\")"
      ],
      "metadata": {
        "execution": {
          "iopub.status.busy": "2022-12-31T07:52:21.878049Z",
          "iopub.execute_input": "2022-12-31T07:52:21.878472Z",
          "iopub.status.idle": "2022-12-31T07:52:21.982805Z",
          "shell.execute_reply.started": "2022-12-31T07:52:21.878440Z",
          "shell.execute_reply": "2022-12-31T07:52:21.981740Z"
        },
        "trusted": true,
        "id": "tTGLeunhLIWH"
      },
      "execution_count": 5,
      "outputs": []
    },
    {
      "cell_type": "code",
      "source": [
        "data.tail()"
      ],
      "metadata": {
        "execution": {
          "iopub.status.busy": "2022-12-31T07:52:22.328666Z",
          "iopub.execute_input": "2022-12-31T07:52:22.329096Z",
          "iopub.status.idle": "2022-12-31T07:52:22.361061Z",
          "shell.execute_reply.started": "2022-12-31T07:52:22.329061Z",
          "shell.execute_reply": "2022-12-31T07:52:22.359657Z"
        },
        "trusted": true,
        "colab": {
          "base_uri": "https://localhost:8080/",
          "height": 0
        },
        "id": "A8hfdE1VLIWI",
        "outputId": "81128bca-c7ad-423b-be2c-666a82c34f7b"
      },
      "execution_count": 6,
      "outputs": [
        {
          "output_type": "execute_result",
          "data": {
            "text/plain": [
              "          id                     Artist Name                   Track Name  \\\n",
              "14391  14391  Ólafur Arnalds, Alice Sara Ott                       Verses   \n",
              "14392  14392                    Citizen Cope      Something to Believe In   \n",
              "14393  14393                           WurlD             WAYO (KPE LE WU)   \n",
              "14394  14394                        Rafferty                Making a Home   \n",
              "14395  14395                    Machine Head  Is There Anybody out There?   \n",
              "\n",
              "       Popularity  danceability  energy   key  loudness  mode  speechiness  \\\n",
              "14391        42.0         0.140   0.159   1.0   -17.845     0       0.0401   \n",
              "14392        50.0         0.659   0.882   5.0    -7.039     1       0.0527   \n",
              "14393        41.0         0.696   0.535   4.0    -8.053     0       0.1460   \n",
              "14394        48.0         0.412   0.571  11.0    -6.006     1       0.0387   \n",
              "14395        63.0         0.408   0.953   7.0    -3.883     1       0.2260   \n",
              "\n",
              "       acousticness  instrumentalness  liveness  valence    tempo  \\\n",
              "14391       0.86700          0.917000    0.3920   0.0331  142.239   \n",
              "14392       0.04620          0.011500    0.0919   0.8810  156.099   \n",
              "14393       0.42100          0.000018    0.1070   0.6620   91.943   \n",
              "14394       0.30400               NaN    0.2370   0.4730  159.697   \n",
              "14395       0.00532               NaN    0.3380   0.2910  177.940   \n",
              "\n",
              "       duration_in min/ms  time_signature  Class  \n",
              "14391            4.052667               3      7  \n",
              "14392       221840.000000               4     10  \n",
              "14393       196093.000000               4      9  \n",
              "14394       238173.000000               4      9  \n",
              "14395       272666.000000               4     10  "
            ],
            "text/html": [
              "\n",
              "  <div id=\"df-2de9ba00-552c-4b30-b609-dc96a718dab0\">\n",
              "    <div class=\"colab-df-container\">\n",
              "      <div>\n",
              "<style scoped>\n",
              "    .dataframe tbody tr th:only-of-type {\n",
              "        vertical-align: middle;\n",
              "    }\n",
              "\n",
              "    .dataframe tbody tr th {\n",
              "        vertical-align: top;\n",
              "    }\n",
              "\n",
              "    .dataframe thead th {\n",
              "        text-align: right;\n",
              "    }\n",
              "</style>\n",
              "<table border=\"1\" class=\"dataframe\">\n",
              "  <thead>\n",
              "    <tr style=\"text-align: right;\">\n",
              "      <th></th>\n",
              "      <th>id</th>\n",
              "      <th>Artist Name</th>\n",
              "      <th>Track Name</th>\n",
              "      <th>Popularity</th>\n",
              "      <th>danceability</th>\n",
              "      <th>energy</th>\n",
              "      <th>key</th>\n",
              "      <th>loudness</th>\n",
              "      <th>mode</th>\n",
              "      <th>speechiness</th>\n",
              "      <th>acousticness</th>\n",
              "      <th>instrumentalness</th>\n",
              "      <th>liveness</th>\n",
              "      <th>valence</th>\n",
              "      <th>tempo</th>\n",
              "      <th>duration_in min/ms</th>\n",
              "      <th>time_signature</th>\n",
              "      <th>Class</th>\n",
              "    </tr>\n",
              "  </thead>\n",
              "  <tbody>\n",
              "    <tr>\n",
              "      <th>14391</th>\n",
              "      <td>14391</td>\n",
              "      <td>Ólafur Arnalds, Alice Sara Ott</td>\n",
              "      <td>Verses</td>\n",
              "      <td>42.0</td>\n",
              "      <td>0.140</td>\n",
              "      <td>0.159</td>\n",
              "      <td>1.0</td>\n",
              "      <td>-17.845</td>\n",
              "      <td>0</td>\n",
              "      <td>0.0401</td>\n",
              "      <td>0.86700</td>\n",
              "      <td>0.917000</td>\n",
              "      <td>0.3920</td>\n",
              "      <td>0.0331</td>\n",
              "      <td>142.239</td>\n",
              "      <td>4.052667</td>\n",
              "      <td>3</td>\n",
              "      <td>7</td>\n",
              "    </tr>\n",
              "    <tr>\n",
              "      <th>14392</th>\n",
              "      <td>14392</td>\n",
              "      <td>Citizen Cope</td>\n",
              "      <td>Something to Believe In</td>\n",
              "      <td>50.0</td>\n",
              "      <td>0.659</td>\n",
              "      <td>0.882</td>\n",
              "      <td>5.0</td>\n",
              "      <td>-7.039</td>\n",
              "      <td>1</td>\n",
              "      <td>0.0527</td>\n",
              "      <td>0.04620</td>\n",
              "      <td>0.011500</td>\n",
              "      <td>0.0919</td>\n",
              "      <td>0.8810</td>\n",
              "      <td>156.099</td>\n",
              "      <td>221840.000000</td>\n",
              "      <td>4</td>\n",
              "      <td>10</td>\n",
              "    </tr>\n",
              "    <tr>\n",
              "      <th>14393</th>\n",
              "      <td>14393</td>\n",
              "      <td>WurlD</td>\n",
              "      <td>WAYO (KPE LE WU)</td>\n",
              "      <td>41.0</td>\n",
              "      <td>0.696</td>\n",
              "      <td>0.535</td>\n",
              "      <td>4.0</td>\n",
              "      <td>-8.053</td>\n",
              "      <td>0</td>\n",
              "      <td>0.1460</td>\n",
              "      <td>0.42100</td>\n",
              "      <td>0.000018</td>\n",
              "      <td>0.1070</td>\n",
              "      <td>0.6620</td>\n",
              "      <td>91.943</td>\n",
              "      <td>196093.000000</td>\n",
              "      <td>4</td>\n",
              "      <td>9</td>\n",
              "    </tr>\n",
              "    <tr>\n",
              "      <th>14394</th>\n",
              "      <td>14394</td>\n",
              "      <td>Rafferty</td>\n",
              "      <td>Making a Home</td>\n",
              "      <td>48.0</td>\n",
              "      <td>0.412</td>\n",
              "      <td>0.571</td>\n",
              "      <td>11.0</td>\n",
              "      <td>-6.006</td>\n",
              "      <td>1</td>\n",
              "      <td>0.0387</td>\n",
              "      <td>0.30400</td>\n",
              "      <td>NaN</td>\n",
              "      <td>0.2370</td>\n",
              "      <td>0.4730</td>\n",
              "      <td>159.697</td>\n",
              "      <td>238173.000000</td>\n",
              "      <td>4</td>\n",
              "      <td>9</td>\n",
              "    </tr>\n",
              "    <tr>\n",
              "      <th>14395</th>\n",
              "      <td>14395</td>\n",
              "      <td>Machine Head</td>\n",
              "      <td>Is There Anybody out There?</td>\n",
              "      <td>63.0</td>\n",
              "      <td>0.408</td>\n",
              "      <td>0.953</td>\n",
              "      <td>7.0</td>\n",
              "      <td>-3.883</td>\n",
              "      <td>1</td>\n",
              "      <td>0.2260</td>\n",
              "      <td>0.00532</td>\n",
              "      <td>NaN</td>\n",
              "      <td>0.3380</td>\n",
              "      <td>0.2910</td>\n",
              "      <td>177.940</td>\n",
              "      <td>272666.000000</td>\n",
              "      <td>4</td>\n",
              "      <td>10</td>\n",
              "    </tr>\n",
              "  </tbody>\n",
              "</table>\n",
              "</div>\n",
              "      <button class=\"colab-df-convert\" onclick=\"convertToInteractive('df-2de9ba00-552c-4b30-b609-dc96a718dab0')\"\n",
              "              title=\"Convert this dataframe to an interactive table.\"\n",
              "              style=\"display:none;\">\n",
              "        \n",
              "  <svg xmlns=\"http://www.w3.org/2000/svg\" height=\"24px\"viewBox=\"0 0 24 24\"\n",
              "       width=\"24px\">\n",
              "    <path d=\"M0 0h24v24H0V0z\" fill=\"none\"/>\n",
              "    <path d=\"M18.56 5.44l.94 2.06.94-2.06 2.06-.94-2.06-.94-.94-2.06-.94 2.06-2.06.94zm-11 1L8.5 8.5l.94-2.06 2.06-.94-2.06-.94L8.5 2.5l-.94 2.06-2.06.94zm10 10l.94 2.06.94-2.06 2.06-.94-2.06-.94-.94-2.06-.94 2.06-2.06.94z\"/><path d=\"M17.41 7.96l-1.37-1.37c-.4-.4-.92-.59-1.43-.59-.52 0-1.04.2-1.43.59L10.3 9.45l-7.72 7.72c-.78.78-.78 2.05 0 2.83L4 21.41c.39.39.9.59 1.41.59.51 0 1.02-.2 1.41-.59l7.78-7.78 2.81-2.81c.8-.78.8-2.07 0-2.86zM5.41 20L4 18.59l7.72-7.72 1.47 1.35L5.41 20z\"/>\n",
              "  </svg>\n",
              "      </button>\n",
              "      \n",
              "  <style>\n",
              "    .colab-df-container {\n",
              "      display:flex;\n",
              "      flex-wrap:wrap;\n",
              "      gap: 12px;\n",
              "    }\n",
              "\n",
              "    .colab-df-convert {\n",
              "      background-color: #E8F0FE;\n",
              "      border: none;\n",
              "      border-radius: 50%;\n",
              "      cursor: pointer;\n",
              "      display: none;\n",
              "      fill: #1967D2;\n",
              "      height: 32px;\n",
              "      padding: 0 0 0 0;\n",
              "      width: 32px;\n",
              "    }\n",
              "\n",
              "    .colab-df-convert:hover {\n",
              "      background-color: #E2EBFA;\n",
              "      box-shadow: 0px 1px 2px rgba(60, 64, 67, 0.3), 0px 1px 3px 1px rgba(60, 64, 67, 0.15);\n",
              "      fill: #174EA6;\n",
              "    }\n",
              "\n",
              "    [theme=dark] .colab-df-convert {\n",
              "      background-color: #3B4455;\n",
              "      fill: #D2E3FC;\n",
              "    }\n",
              "\n",
              "    [theme=dark] .colab-df-convert:hover {\n",
              "      background-color: #434B5C;\n",
              "      box-shadow: 0px 1px 3px 1px rgba(0, 0, 0, 0.15);\n",
              "      filter: drop-shadow(0px 1px 2px rgba(0, 0, 0, 0.3));\n",
              "      fill: #FFFFFF;\n",
              "    }\n",
              "  </style>\n",
              "\n",
              "      <script>\n",
              "        const buttonEl =\n",
              "          document.querySelector('#df-2de9ba00-552c-4b30-b609-dc96a718dab0 button.colab-df-convert');\n",
              "        buttonEl.style.display =\n",
              "          google.colab.kernel.accessAllowed ? 'block' : 'none';\n",
              "\n",
              "        async function convertToInteractive(key) {\n",
              "          const element = document.querySelector('#df-2de9ba00-552c-4b30-b609-dc96a718dab0');\n",
              "          const dataTable =\n",
              "            await google.colab.kernel.invokeFunction('convertToInteractive',\n",
              "                                                     [key], {});\n",
              "          if (!dataTable) return;\n",
              "\n",
              "          const docLinkHtml = 'Like what you see? Visit the ' +\n",
              "            '<a target=\"_blank\" href=https://colab.research.google.com/notebooks/data_table.ipynb>data table notebook</a>'\n",
              "            + ' to learn more about interactive tables.';\n",
              "          element.innerHTML = '';\n",
              "          dataTable['output_type'] = 'display_data';\n",
              "          await google.colab.output.renderOutput(dataTable, element);\n",
              "          const docLink = document.createElement('div');\n",
              "          docLink.innerHTML = docLinkHtml;\n",
              "          element.appendChild(docLink);\n",
              "        }\n",
              "      </script>\n",
              "    </div>\n",
              "  </div>\n",
              "  "
            ]
          },
          "metadata": {},
          "execution_count": 6
        }
      ]
    },
    {
      "cell_type": "code",
      "source": [
        "data.Class.value_counts()"
      ],
      "metadata": {
        "colab": {
          "base_uri": "https://localhost:8080/"
        },
        "id": "Ysc3rkyUJQOI",
        "outputId": "b337bf15-5bf2-45fb-e28a-190786de5e10"
      },
      "execution_count": 7,
      "outputs": [
        {
          "output_type": "execute_result",
          "data": {
            "text/plain": [
              "10    3959\n",
              "6     2069\n",
              "9     2019\n",
              "8     1483\n",
              "5     1157\n",
              "1     1098\n",
              "2     1018\n",
              "0      500\n",
              "7      461\n",
              "3      322\n",
              "4      310\n",
              "Name: Class, dtype: int64"
            ]
          },
          "metadata": {},
          "execution_count": 7
        }
      ]
    },
    {
      "cell_type": "markdown",
      "source": [
        "# Data preprocessing\n",
        "1. drop the irrelevant columns\n",
        "2. checking if there are any duplicate values\n",
        "3. Handling missing values\n",
        "4. Handling columns that skewed towards one end of the distribution (e.g., the right or left) by applying boxcox transform\n",
        "5. Data Visualizations\n",
        "6. implement the SMOTE to handling unbalanced in the dataset\n",
        "7. Feature Scaling"
      ],
      "metadata": {
        "id": "HgGLeQuvTF3b"
      }
    },
    {
      "cell_type": "markdown",
      "source": [
        "##1.drop the irrelevant columns"
      ],
      "metadata": {
        "id": "Jy-p0sT-iKvS"
      }
    },
    {
      "cell_type": "code",
      "source": [
        "# create a copy version of the dataset\n",
        "df=data.copy()"
      ],
      "metadata": {
        "id": "XqOvVfYIPL9H"
      },
      "execution_count": 8,
      "outputs": []
    },
    {
      "cell_type": "code",
      "source": [
        "df.drop(columns=['id','Artist Name','Track Name'],inplace=True)"
      ],
      "metadata": {
        "id": "sKuPCrDSOeiB"
      },
      "execution_count": 9,
      "outputs": []
    },
    {
      "cell_type": "code",
      "source": [
        "df.shape"
      ],
      "metadata": {
        "execution": {
          "iopub.status.busy": "2022-12-31T07:52:29.193882Z",
          "iopub.execute_input": "2022-12-31T07:52:29.194317Z",
          "iopub.status.idle": "2022-12-31T07:52:29.204009Z",
          "shell.execute_reply.started": "2022-12-31T07:52:29.194254Z",
          "shell.execute_reply": "2022-12-31T07:52:29.202942Z"
        },
        "trusted": true,
        "colab": {
          "base_uri": "https://localhost:8080/"
        },
        "id": "cY5mL9u9LIWJ",
        "outputId": "b94e8ca6-f9fd-49aa-877e-611c00b0e217"
      },
      "execution_count": 10,
      "outputs": [
        {
          "output_type": "execute_result",
          "data": {
            "text/plain": [
              "(14396, 15)"
            ]
          },
          "metadata": {},
          "execution_count": 10
        }
      ]
    },
    {
      "cell_type": "code",
      "source": [
        "df.info()"
      ],
      "metadata": {
        "execution": {
          "iopub.status.busy": "2022-12-31T07:52:30.484060Z",
          "iopub.execute_input": "2022-12-31T07:52:30.484922Z",
          "iopub.status.idle": "2022-12-31T07:52:30.521645Z",
          "shell.execute_reply.started": "2022-12-31T07:52:30.484879Z",
          "shell.execute_reply": "2022-12-31T07:52:30.520222Z"
        },
        "trusted": true,
        "colab": {
          "base_uri": "https://localhost:8080/"
        },
        "id": "wQRgHvkWLIWJ",
        "outputId": "6f6f8f2c-c2fb-437c-a9b0-9b1d545ae3c6"
      },
      "execution_count": 11,
      "outputs": [
        {
          "output_type": "stream",
          "name": "stdout",
          "text": [
            "<class 'pandas.core.frame.DataFrame'>\n",
            "RangeIndex: 14396 entries, 0 to 14395\n",
            "Data columns (total 15 columns):\n",
            " #   Column              Non-Null Count  Dtype  \n",
            "---  ------              --------------  -----  \n",
            " 0   Popularity          14045 non-null  float64\n",
            " 1   danceability        14396 non-null  float64\n",
            " 2   energy              14396 non-null  float64\n",
            " 3   key                 12784 non-null  float64\n",
            " 4   loudness            14396 non-null  float64\n",
            " 5   mode                14396 non-null  int64  \n",
            " 6   speechiness         14396 non-null  float64\n",
            " 7   acousticness        14396 non-null  float64\n",
            " 8   instrumentalness    10837 non-null  float64\n",
            " 9   liveness            14396 non-null  float64\n",
            " 10  valence             14396 non-null  float64\n",
            " 11  tempo               14396 non-null  float64\n",
            " 12  duration_in min/ms  14396 non-null  float64\n",
            " 13  time_signature      14396 non-null  int64  \n",
            " 14  Class               14396 non-null  int64  \n",
            "dtypes: float64(12), int64(3)\n",
            "memory usage: 1.6 MB\n"
          ]
        }
      ]
    },
    {
      "cell_type": "code",
      "source": [
        "# convert the values of duration from min/ms to min\n",
        "df['duration_in min/ms']*1000"
      ],
      "metadata": {
        "colab": {
          "base_uri": "https://localhost:8080/"
        },
        "id": "DvRVuxSC0Azx",
        "outputId": "6f1dddff-9309-44b4-ebd1-0acbecc2b9b5"
      },
      "execution_count": 12,
      "outputs": [
        {
          "output_type": "execute_result",
          "data": {
            "text/plain": [
              "0        5.209333e+03\n",
              "1        2.066020e+08\n",
              "2        2.189600e+08\n",
              "3        3.324670e+08\n",
              "4        2.001730e+08\n",
              "             ...     \n",
              "14391    4.052667e+03\n",
              "14392    2.218400e+08\n",
              "14393    1.960930e+08\n",
              "14394    2.381730e+08\n",
              "14395    2.726660e+08\n",
              "Name: duration_in min/ms, Length: 14396, dtype: float64"
            ]
          },
          "metadata": {},
          "execution_count": 12
        }
      ]
    },
    {
      "cell_type": "code",
      "source": [
        "df.rename(columns={'duration_in min/ms':'duration_in min'},inplace=True)"
      ],
      "metadata": {
        "id": "khBpHSRd1t6A"
      },
      "execution_count": 13,
      "outputs": []
    },
    {
      "cell_type": "markdown",
      "source": [
        "##2. checking if there are any duplicate values "
      ],
      "metadata": {
        "id": "BdNN-8rCiQR7"
      }
    },
    {
      "cell_type": "code",
      "source": [
        "df.duplicated().sum()\n"
      ],
      "metadata": {
        "execution": {
          "iopub.status.busy": "2022-12-31T07:52:36.757504Z",
          "iopub.execute_input": "2022-12-31T07:52:36.758000Z",
          "iopub.status.idle": "2022-12-31T07:52:36.793451Z",
          "shell.execute_reply.started": "2022-12-31T07:52:36.757964Z",
          "shell.execute_reply": "2022-12-31T07:52:36.792006Z"
        },
        "trusted": true,
        "colab": {
          "base_uri": "https://localhost:8080/"
        },
        "id": "euRIGfaSLIWL",
        "outputId": "0f1aa4e0-1a03-4d39-f2c4-1a7469129301"
      },
      "execution_count": 14,
      "outputs": [
        {
          "output_type": "execute_result",
          "data": {
            "text/plain": [
              "29"
            ]
          },
          "metadata": {},
          "execution_count": 14
        }
      ]
    },
    {
      "cell_type": "code",
      "source": [
        "df.drop_duplicates(inplace=True)"
      ],
      "metadata": {
        "id": "WzVeMy0vQLk_"
      },
      "execution_count": 15,
      "outputs": []
    },
    {
      "cell_type": "code",
      "source": [
        "df.duplicated().sum()"
      ],
      "metadata": {
        "colab": {
          "base_uri": "https://localhost:8080/"
        },
        "id": "KRI8W-t2QTdG",
        "outputId": "c0c85f77-18aa-43f3-818c-5ce5ec3e7a63"
      },
      "execution_count": 16,
      "outputs": [
        {
          "output_type": "execute_result",
          "data": {
            "text/plain": [
              "0"
            ]
          },
          "metadata": {},
          "execution_count": 16
        }
      ]
    },
    {
      "cell_type": "code",
      "source": [
        "df.sample(5)"
      ],
      "metadata": {
        "execution": {
          "iopub.status.busy": "2022-12-31T07:52:46.881425Z",
          "iopub.execute_input": "2022-12-31T07:52:46.882766Z",
          "iopub.status.idle": "2022-12-31T07:52:46.911314Z",
          "shell.execute_reply.started": "2022-12-31T07:52:46.882711Z",
          "shell.execute_reply": "2022-12-31T07:52:46.910371Z"
        },
        "trusted": true,
        "colab": {
          "base_uri": "https://localhost:8080/",
          "height": 288
        },
        "id": "V6DAa0inLIWM",
        "outputId": "db299e4d-2944-48b6-f911-b803245ec353"
      },
      "execution_count": 17,
      "outputs": [
        {
          "output_type": "execute_result",
          "data": {
            "text/plain": [
              "       Popularity  danceability  energy   key  loudness  mode  speechiness  \\\n",
              "11308        70.0         0.706   0.824   NaN    -7.959     1       0.0694   \n",
              "4981         24.0         0.397   0.769  10.0    -7.042     1       0.0449   \n",
              "3605         66.0         0.884   0.639   1.0    -6.832     0       0.2460   \n",
              "12906        43.0         0.717   0.866   2.0    -3.662     1       0.0474   \n",
              "11849        65.0         0.436   0.657   5.0    -8.868     1       0.0541   \n",
              "\n",
              "       acousticness  instrumentalness  liveness  valence    tempo  \\\n",
              "11308       0.35500          0.000133    0.1110    0.860   94.980   \n",
              "4981        0.03580          0.000026    0.9350    0.426   83.718   \n",
              "3605        0.11100          0.000002    0.6080    0.625  100.049   \n",
              "12906       0.24800               NaN    0.3850    0.734  154.889   \n",
              "11849       0.00975          0.007480    0.0931    0.210  118.693   \n",
              "\n",
              "       duration_in min  time_signature  Class  \n",
              "11308         2.200000               4      9  \n",
              "4981          6.236683               4      9  \n",
              "3605     142176.000000               4      5  \n",
              "12906    129117.000000               4     10  \n",
              "11849    467640.000000               4     10  "
            ],
            "text/html": [
              "\n",
              "  <div id=\"df-9ba6280e-d739-4c9f-965e-1cc4a1bd96d2\">\n",
              "    <div class=\"colab-df-container\">\n",
              "      <div>\n",
              "<style scoped>\n",
              "    .dataframe tbody tr th:only-of-type {\n",
              "        vertical-align: middle;\n",
              "    }\n",
              "\n",
              "    .dataframe tbody tr th {\n",
              "        vertical-align: top;\n",
              "    }\n",
              "\n",
              "    .dataframe thead th {\n",
              "        text-align: right;\n",
              "    }\n",
              "</style>\n",
              "<table border=\"1\" class=\"dataframe\">\n",
              "  <thead>\n",
              "    <tr style=\"text-align: right;\">\n",
              "      <th></th>\n",
              "      <th>Popularity</th>\n",
              "      <th>danceability</th>\n",
              "      <th>energy</th>\n",
              "      <th>key</th>\n",
              "      <th>loudness</th>\n",
              "      <th>mode</th>\n",
              "      <th>speechiness</th>\n",
              "      <th>acousticness</th>\n",
              "      <th>instrumentalness</th>\n",
              "      <th>liveness</th>\n",
              "      <th>valence</th>\n",
              "      <th>tempo</th>\n",
              "      <th>duration_in min</th>\n",
              "      <th>time_signature</th>\n",
              "      <th>Class</th>\n",
              "    </tr>\n",
              "  </thead>\n",
              "  <tbody>\n",
              "    <tr>\n",
              "      <th>11308</th>\n",
              "      <td>70.0</td>\n",
              "      <td>0.706</td>\n",
              "      <td>0.824</td>\n",
              "      <td>NaN</td>\n",
              "      <td>-7.959</td>\n",
              "      <td>1</td>\n",
              "      <td>0.0694</td>\n",
              "      <td>0.35500</td>\n",
              "      <td>0.000133</td>\n",
              "      <td>0.1110</td>\n",
              "      <td>0.860</td>\n",
              "      <td>94.980</td>\n",
              "      <td>2.200000</td>\n",
              "      <td>4</td>\n",
              "      <td>9</td>\n",
              "    </tr>\n",
              "    <tr>\n",
              "      <th>4981</th>\n",
              "      <td>24.0</td>\n",
              "      <td>0.397</td>\n",
              "      <td>0.769</td>\n",
              "      <td>10.0</td>\n",
              "      <td>-7.042</td>\n",
              "      <td>1</td>\n",
              "      <td>0.0449</td>\n",
              "      <td>0.03580</td>\n",
              "      <td>0.000026</td>\n",
              "      <td>0.9350</td>\n",
              "      <td>0.426</td>\n",
              "      <td>83.718</td>\n",
              "      <td>6.236683</td>\n",
              "      <td>4</td>\n",
              "      <td>9</td>\n",
              "    </tr>\n",
              "    <tr>\n",
              "      <th>3605</th>\n",
              "      <td>66.0</td>\n",
              "      <td>0.884</td>\n",
              "      <td>0.639</td>\n",
              "      <td>1.0</td>\n",
              "      <td>-6.832</td>\n",
              "      <td>0</td>\n",
              "      <td>0.2460</td>\n",
              "      <td>0.11100</td>\n",
              "      <td>0.000002</td>\n",
              "      <td>0.6080</td>\n",
              "      <td>0.625</td>\n",
              "      <td>100.049</td>\n",
              "      <td>142176.000000</td>\n",
              "      <td>4</td>\n",
              "      <td>5</td>\n",
              "    </tr>\n",
              "    <tr>\n",
              "      <th>12906</th>\n",
              "      <td>43.0</td>\n",
              "      <td>0.717</td>\n",
              "      <td>0.866</td>\n",
              "      <td>2.0</td>\n",
              "      <td>-3.662</td>\n",
              "      <td>1</td>\n",
              "      <td>0.0474</td>\n",
              "      <td>0.24800</td>\n",
              "      <td>NaN</td>\n",
              "      <td>0.3850</td>\n",
              "      <td>0.734</td>\n",
              "      <td>154.889</td>\n",
              "      <td>129117.000000</td>\n",
              "      <td>4</td>\n",
              "      <td>10</td>\n",
              "    </tr>\n",
              "    <tr>\n",
              "      <th>11849</th>\n",
              "      <td>65.0</td>\n",
              "      <td>0.436</td>\n",
              "      <td>0.657</td>\n",
              "      <td>5.0</td>\n",
              "      <td>-8.868</td>\n",
              "      <td>1</td>\n",
              "      <td>0.0541</td>\n",
              "      <td>0.00975</td>\n",
              "      <td>0.007480</td>\n",
              "      <td>0.0931</td>\n",
              "      <td>0.210</td>\n",
              "      <td>118.693</td>\n",
              "      <td>467640.000000</td>\n",
              "      <td>4</td>\n",
              "      <td>10</td>\n",
              "    </tr>\n",
              "  </tbody>\n",
              "</table>\n",
              "</div>\n",
              "      <button class=\"colab-df-convert\" onclick=\"convertToInteractive('df-9ba6280e-d739-4c9f-965e-1cc4a1bd96d2')\"\n",
              "              title=\"Convert this dataframe to an interactive table.\"\n",
              "              style=\"display:none;\">\n",
              "        \n",
              "  <svg xmlns=\"http://www.w3.org/2000/svg\" height=\"24px\"viewBox=\"0 0 24 24\"\n",
              "       width=\"24px\">\n",
              "    <path d=\"M0 0h24v24H0V0z\" fill=\"none\"/>\n",
              "    <path d=\"M18.56 5.44l.94 2.06.94-2.06 2.06-.94-2.06-.94-.94-2.06-.94 2.06-2.06.94zm-11 1L8.5 8.5l.94-2.06 2.06-.94-2.06-.94L8.5 2.5l-.94 2.06-2.06.94zm10 10l.94 2.06.94-2.06 2.06-.94-2.06-.94-.94-2.06-.94 2.06-2.06.94z\"/><path d=\"M17.41 7.96l-1.37-1.37c-.4-.4-.92-.59-1.43-.59-.52 0-1.04.2-1.43.59L10.3 9.45l-7.72 7.72c-.78.78-.78 2.05 0 2.83L4 21.41c.39.39.9.59 1.41.59.51 0 1.02-.2 1.41-.59l7.78-7.78 2.81-2.81c.8-.78.8-2.07 0-2.86zM5.41 20L4 18.59l7.72-7.72 1.47 1.35L5.41 20z\"/>\n",
              "  </svg>\n",
              "      </button>\n",
              "      \n",
              "  <style>\n",
              "    .colab-df-container {\n",
              "      display:flex;\n",
              "      flex-wrap:wrap;\n",
              "      gap: 12px;\n",
              "    }\n",
              "\n",
              "    .colab-df-convert {\n",
              "      background-color: #E8F0FE;\n",
              "      border: none;\n",
              "      border-radius: 50%;\n",
              "      cursor: pointer;\n",
              "      display: none;\n",
              "      fill: #1967D2;\n",
              "      height: 32px;\n",
              "      padding: 0 0 0 0;\n",
              "      width: 32px;\n",
              "    }\n",
              "\n",
              "    .colab-df-convert:hover {\n",
              "      background-color: #E2EBFA;\n",
              "      box-shadow: 0px 1px 2px rgba(60, 64, 67, 0.3), 0px 1px 3px 1px rgba(60, 64, 67, 0.15);\n",
              "      fill: #174EA6;\n",
              "    }\n",
              "\n",
              "    [theme=dark] .colab-df-convert {\n",
              "      background-color: #3B4455;\n",
              "      fill: #D2E3FC;\n",
              "    }\n",
              "\n",
              "    [theme=dark] .colab-df-convert:hover {\n",
              "      background-color: #434B5C;\n",
              "      box-shadow: 0px 1px 3px 1px rgba(0, 0, 0, 0.15);\n",
              "      filter: drop-shadow(0px 1px 2px rgba(0, 0, 0, 0.3));\n",
              "      fill: #FFFFFF;\n",
              "    }\n",
              "  </style>\n",
              "\n",
              "      <script>\n",
              "        const buttonEl =\n",
              "          document.querySelector('#df-9ba6280e-d739-4c9f-965e-1cc4a1bd96d2 button.colab-df-convert');\n",
              "        buttonEl.style.display =\n",
              "          google.colab.kernel.accessAllowed ? 'block' : 'none';\n",
              "\n",
              "        async function convertToInteractive(key) {\n",
              "          const element = document.querySelector('#df-9ba6280e-d739-4c9f-965e-1cc4a1bd96d2');\n",
              "          const dataTable =\n",
              "            await google.colab.kernel.invokeFunction('convertToInteractive',\n",
              "                                                     [key], {});\n",
              "          if (!dataTable) return;\n",
              "\n",
              "          const docLinkHtml = 'Like what you see? Visit the ' +\n",
              "            '<a target=\"_blank\" href=https://colab.research.google.com/notebooks/data_table.ipynb>data table notebook</a>'\n",
              "            + ' to learn more about interactive tables.';\n",
              "          element.innerHTML = '';\n",
              "          dataTable['output_type'] = 'display_data';\n",
              "          await google.colab.output.renderOutput(dataTable, element);\n",
              "          const docLink = document.createElement('div');\n",
              "          docLink.innerHTML = docLinkHtml;\n",
              "          element.appendChild(docLink);\n",
              "        }\n",
              "      </script>\n",
              "    </div>\n",
              "  </div>\n",
              "  "
            ]
          },
          "metadata": {},
          "execution_count": 17
        }
      ]
    },
    {
      "cell_type": "markdown",
      "source": [
        "## 3. dealing with missing values"
      ],
      "metadata": {
        "id": "ziD1aJcGLIWU"
      }
    },
    {
      "cell_type": "code",
      "source": [
        "plt.figure(figsize=(6,6))\n",
        "sns.heatmap(df.isnull(),yticklabels=False,cbar=False,cmap='viridis')"
      ],
      "metadata": {
        "execution": {
          "iopub.status.busy": "2022-12-30T23:52:41.631251Z",
          "iopub.execute_input": "2022-12-30T23:52:41.631695Z",
          "iopub.status.idle": "2022-12-30T23:52:42.069058Z",
          "shell.execute_reply.started": "2022-12-30T23:52:41.631648Z",
          "shell.execute_reply": "2022-12-30T23:52:42.068138Z"
        },
        "trusted": true,
        "colab": {
          "base_uri": "https://localhost:8080/",
          "height": 468
        },
        "id": "lURePIiHLIWV",
        "outputId": "a231b537-5653-4ae4-842a-4ffaa158ddc3"
      },
      "execution_count": 18,
      "outputs": [
        {
          "output_type": "execute_result",
          "data": {
            "text/plain": [
              "<matplotlib.axes._subplots.AxesSubplot at 0x7f80c9802730>"
            ]
          },
          "metadata": {},
          "execution_count": 18
        },
        {
          "output_type": "display_data",
          "data": {
            "text/plain": [
              "<Figure size 432x432 with 1 Axes>"
            ],
            "image/png": "[encoded data removed]"
          },
          "metadata": {
            "needs_background": "light"
          }
        }
      ]
    },
    {
      "cell_type": "markdown",
      "source": [
        "### Popularity"
      ],
      "metadata": {
        "id": "6jSRmSAyLIWV"
      }
    },
    {
      "cell_type": "code",
      "source": [
        "cols=['Popularity']\n",
        "\n",
        "for col in cols:\n",
        "  print(f\"number of null in {col}=\",df[col].isnull().sum(),\"\\n\")\n",
        "\n",
        "  get_values=df.groupby(\"Class\").median()[col]\n",
        "  for i in range(12):\n",
        "    for k in get_values:\n",
        "      con=(df[col].isnull()) & (df['Class']==i)\n",
        "      df.loc[con, col]=k\n",
        "    \n",
        "  print(f\"number of null in {col}=\",df[col].isnull().sum(),\"\\n\")"
      ],
      "metadata": {
        "execution": {
          "iopub.status.busy": "2022-12-02T15:19:17.371977Z",
          "iopub.execute_input": "2022-12-02T15:19:17.372776Z",
          "iopub.status.idle": "2022-12-02T15:19:17.497453Z",
          "shell.execute_reply.started": "2022-12-02T15:19:17.372726Z",
          "shell.execute_reply": "2022-12-02T15:19:17.496571Z"
        },
        "trusted": true,
        "colab": {
          "base_uri": "https://localhost:8080/"
        },
        "id": "z1LgAYlQLIWW",
        "outputId": "29265c30-86e8-428e-d764-af7f7f73465f"
      },
      "execution_count": 19,
      "outputs": [
        {
          "output_type": "stream",
          "name": "stdout",
          "text": [
            "number of null in Popularity= 351 \n",
            "\n",
            "number of null in Popularity= 0 \n",
            "\n"
          ]
        }
      ]
    },
    {
      "cell_type": "markdown",
      "source": [
        "### key"
      ],
      "metadata": {
        "id": "AhrSUOuALIWW"
      }
    },
    {
      "cell_type": "code",
      "source": [
        "df['key'].value_counts()"
      ],
      "metadata": {
        "execution": {
          "iopub.status.busy": "2022-12-02T15:19:22.742664Z",
          "iopub.execute_input": "2022-12-02T15:19:22.743096Z",
          "iopub.status.idle": "2022-12-02T15:19:22.755215Z",
          "shell.execute_reply.started": "2022-12-02T15:19:22.743052Z",
          "shell.execute_reply": "2022-12-02T15:19:22.753563Z"
        },
        "trusted": true,
        "colab": {
          "base_uri": "https://localhost:8080/"
        },
        "id": "oX3wiDdHLIWX",
        "outputId": "2f803ac0-62a3-4273-92b0-64fa48843981"
      },
      "execution_count": 20,
      "outputs": [
        {
          "output_type": "execute_result",
          "data": {
            "text/plain": [
              "7.0     1684\n",
              "2.0     1588\n",
              "9.0     1576\n",
              "1.0     1328\n",
              "4.0     1233\n",
              "11.0    1164\n",
              "5.0     1120\n",
              "6.0      948\n",
              "8.0      896\n",
              "10.0     810\n",
              "3.0      411\n",
              "Name: key, dtype: int64"
            ]
          },
          "metadata": {},
          "execution_count": 20
        }
      ]
    },
    {
      "cell_type": "code",
      "source": [
        "print(f\"number of null in key=\",df['key'].isnull().sum(),\"\\n\")\n",
        "\n",
        "SMT1 = df.loc[df['mode']==0]['key'].mode()[0]\n",
        "\n",
        "SMT2  = df.loc[df['mode']==1]['key'].mode()[0]\n",
        "\n",
        "C1=(df.key.isnull()) & (df['mode']==0)\n",
        "C2=(df.key.isnull()) & (df['mode']==1)\n",
        "\n",
        "df.loc[C1, 'key']=SMT1\n",
        "df.loc[C2, 'key']=SMT2\n",
        "\n",
        "print(f\"number of null in key=\",df['key'].isnull().sum(),\"\\n\")"
      ],
      "metadata": {
        "execution": {
          "iopub.status.busy": "2022-12-02T15:19:23.504143Z",
          "iopub.execute_input": "2022-12-02T15:19:23.504561Z",
          "iopub.status.idle": "2022-12-02T15:19:23.521989Z",
          "shell.execute_reply.started": "2022-12-02T15:19:23.504528Z",
          "shell.execute_reply": "2022-12-02T15:19:23.520619Z"
        },
        "trusted": true,
        "colab": {
          "base_uri": "https://localhost:8080/"
        },
        "id": "XKxTJ3rRLIWX",
        "outputId": "690ccdd2-c50c-48fe-be7e-cd0baa438b41"
      },
      "execution_count": 21,
      "outputs": [
        {
          "output_type": "stream",
          "name": "stdout",
          "text": [
            "number of null in key= 1609 \n",
            "\n",
            "number of null in key= 0 \n",
            "\n"
          ]
        }
      ]
    },
    {
      "cell_type": "markdown",
      "source": [
        "### instrumentalness"
      ],
      "metadata": {
        "id": "MPXKBcfWLIWY"
      }
    },
    {
      "cell_type": "code",
      "source": [
        "print(f\"number of null in instrumentalness=\",df['instrumentalness'].isnull().sum(),\"\\n\")\n",
        "\n",
        "p = SimpleImputer(strategy='median')\n",
        "df['instrumentalness'] = p.fit_transform(df['instrumentalness'].to_numpy().reshape(-1,1))\n",
        "\n",
        "print(f\"number of null in instrumentalness=\",df['instrumentalness'].isnull().sum(),\"\\n\")"
      ],
      "metadata": {
        "execution": {
          "iopub.status.busy": "2022-12-02T15:19:26.612225Z",
          "iopub.execute_input": "2022-12-02T15:19:26.613161Z",
          "iopub.status.idle": "2022-12-02T15:19:26.626425Z",
          "shell.execute_reply.started": "2022-12-02T15:19:26.613112Z",
          "shell.execute_reply": "2022-12-02T15:19:26.625198Z"
        },
        "trusted": true,
        "colab": {
          "base_uri": "https://localhost:8080/"
        },
        "id": "AdzE2vKrLIWY",
        "outputId": "5374eba4-6f24-4140-9acd-c12c8765301a"
      },
      "execution_count": 22,
      "outputs": [
        {
          "output_type": "stream",
          "name": "stdout",
          "text": [
            "number of null in instrumentalness= 3552 \n",
            "\n",
            "number of null in instrumentalness= 0 \n",
            "\n"
          ]
        }
      ]
    },
    {
      "cell_type": "code",
      "source": [
        "plt.figure(figsize=(6,6))\n",
        "sns.heatmap(df.isnull(),yticklabels=False,cbar=False,cmap='viridis')"
      ],
      "metadata": {
        "execution": {
          "iopub.status.busy": "2022-12-02T15:19:27.900156Z",
          "iopub.execute_input": "2022-12-02T15:19:27.901242Z",
          "iopub.status.idle": "2022-12-02T15:19:28.480228Z",
          "shell.execute_reply.started": "2022-12-02T15:19:27.901196Z",
          "shell.execute_reply": "2022-12-02T15:19:28.479111Z"
        },
        "trusted": true,
        "colab": {
          "base_uri": "https://localhost:8080/",
          "height": 468
        },
        "id": "a0GE38aKLIWY",
        "outputId": "742d51a1-eb96-4133-80a5-64410887d024"
      },
      "execution_count": 23,
      "outputs": [
        {
          "output_type": "execute_result",
          "data": {
            "text/plain": [
              "<matplotlib.axes._subplots.AxesSubplot at 0x7f80c6f37e50>"
            ]
          },
          "metadata": {},
          "execution_count": 23
        },
        {
          "output_type": "display_data",
          "data": {
            "text/plain": [
              "<Figure size 432x432 with 1 Axes>"
            ],
            "image/png": "[encoded data removed]"
          },
          "metadata": {
            "needs_background": "light"
          }
        }
      ]
    },
    {
      "cell_type": "markdown",
      "source": [
        "##4. Handling the skewed distribution"
      ],
      "metadata": {
        "id": "DoCuN7KrjUzY"
      }
    },
    {
      "cell_type": "code",
      "source": [
        "print(df.skew().sort_values(ascending=False))\n",
        "\n",
        "# Positive value means the distribution is skewed to the right.\n",
        "# Negative value means the distribution is skewed to the left.\n",
        "# 0 means perfect normal distribution. The bell shaped curve."
      ],
      "metadata": {
        "colab": {
          "base_uri": "https://localhost:8080/"
        },
        "id": "JuGT9Il6jUKH",
        "outputId": "2d45d52e-13be-4367-da29-11c0aac4c987"
      },
      "execution_count": 24,
      "outputs": [
        {
          "output_type": "stream",
          "name": "stdout",
          "text": [
            "speechiness         3.075811\n",
            "liveness            2.181399\n",
            "instrumentalness    1.982341\n",
            "acousticness        1.106474\n",
            "duration_in min     0.831213\n",
            "tempo               0.380839\n",
            "valence             0.093459\n",
            "Popularity          0.093417\n",
            "danceability       -0.082888\n",
            "key                -0.156174\n",
            "mode               -0.576204\n",
            "Class              -0.666166\n",
            "energy             -0.667442\n",
            "loudness           -1.777561\n",
            "time_signature     -4.219047\n",
            "dtype: float64\n"
          ]
        }
      ]
    },
    {
      "cell_type": "markdown",
      "source": [
        "### handling Right Skewed data using boxcox transform "
      ],
      "metadata": {
        "id": "gil3-U_4s6xT"
      }
    },
    {
      "cell_type": "code",
      "source": [
        "Right_SkewedColumns=['speechiness','liveness','instrumentalness']\n",
        "# columns with higher skewed to right\n",
        "from scipy.stats import boxcox\n",
        "\n",
        "for i in Right_SkewedColumns:\n",
        "  print(f'skewed value of {i} before using boxcox transform is=',df[i].skew())\n",
        "  # skewvals=np.log(df[i])\n",
        "  skewvals,L=boxcox(df[i])\n",
        "  df[i]=skewvals\n",
        "  print(f'skewed value of {i} after using boxcox transform is=',df[i].skew())\n",
        "  print(\"________________________________\")"
      ],
      "metadata": {
        "colab": {
          "base_uri": "https://localhost:8080/"
        },
        "id": "rv9IoBhqszSj",
        "outputId": "54a7d4d1-2b8e-4c2e-fe2e-1f6a69a05795"
      },
      "execution_count": 25,
      "outputs": [
        {
          "output_type": "stream",
          "name": "stdout",
          "text": [
            "skewed value of speechiness before using boxcox transform is= 3.075811439525631\n",
            "skewed value of speechiness after using boxcox transform is= 0.22401477506230175\n",
            "________________________________\n",
            "skewed value of liveness before using boxcox transform is= 2.1813991071421843\n",
            "skewed value of liveness after using boxcox transform is= 0.012826251556081943\n",
            "________________________________\n",
            "skewed value of instrumentalness before using boxcox transform is= 1.9823406355689912\n",
            "skewed value of instrumentalness after using boxcox transform is= -0.03320432472038288\n",
            "________________________________\n"
          ]
        }
      ]
    },
    {
      "cell_type": "markdown",
      "source": [
        "##5.  Data Visualizations"
      ],
      "metadata": {
        "id": "LIFpkSxfLIWN"
      }
    },
    {
      "cell_type": "code",
      "source": [
        "def plot_counts(feature, order = None):\n",
        "    sns.countplot(x = feature, data = df, palette = \"ocean\", order = order)\n",
        "    plt.title(f\"Counts in each {feature}\")\n",
        "    plt.show()"
      ],
      "metadata": {
        "execution": {
          "iopub.status.busy": "2022-12-30T20:34:44.804657Z",
          "iopub.execute_input": "2022-12-30T20:34:44.805118Z",
          "iopub.status.idle": "2022-12-30T20:34:44.812083Z",
          "shell.execute_reply.started": "2022-12-30T20:34:44.805085Z",
          "shell.execute_reply": "2022-12-30T20:34:44.810917Z"
        },
        "trusted": true,
        "id": "dR7nOnfjLIWO"
      },
      "execution_count": 26,
      "outputs": []
    },
    {
      "cell_type": "code",
      "source": [
        "plot_counts(\"time_signature\")"
      ],
      "metadata": {
        "execution": {
          "iopub.status.busy": "2022-12-30T20:34:45.788488Z",
          "iopub.execute_input": "2022-12-30T20:34:45.789020Z",
          "iopub.status.idle": "2022-12-30T20:34:45.976503Z",
          "shell.execute_reply.started": "2022-12-30T20:34:45.788967Z",
          "shell.execute_reply": "2022-12-30T20:34:45.975075Z"
        },
        "trusted": true,
        "colab": {
          "base_uri": "https://localhost:8080/",
          "height": 296
        },
        "id": "XysJG1ydLIWO",
        "outputId": "e9b6d332-10ba-4463-9703-be0c18190909"
      },
      "execution_count": 27,
      "outputs": [
        {
          "output_type": "display_data",
          "data": {
            "text/plain": [
              "<Figure size 432x288 with 1 Axes>"
            ],
            "image/png": "[encoded data removed]"
          },
          "metadata": {
            "needs_background": "light"
          }
        }
      ]
    },
    {
      "cell_type": "code",
      "source": [
        "plot_counts(\"mode\")"
      ],
      "metadata": {
        "execution": {
          "iopub.status.busy": "2022-12-02T15:19:09.691124Z",
          "iopub.execute_input": "2022-12-02T15:19:09.691529Z",
          "iopub.status.idle": "2022-12-02T15:19:09.860285Z",
          "shell.execute_reply.started": "2022-12-02T15:19:09.691481Z",
          "shell.execute_reply": "2022-12-02T15:19:09.859111Z"
        },
        "trusted": true,
        "colab": {
          "base_uri": "https://localhost:8080/",
          "height": 295
        },
        "id": "D0DZOJWgLIWP",
        "outputId": "26d14223-1d09-423e-b4be-5fcd2223246b"
      },
      "execution_count": 28,
      "outputs": [
        {
          "output_type": "display_data",
          "data": {
            "text/plain": [
              "<Figure size 432x288 with 1 Axes>"
            ],
            "image/png": "[encoded data removed]"
          },
          "metadata": {
            "needs_background": "light"
          }
        }
      ]
    },
    {
      "cell_type": "code",
      "source": [
        "plot_counts(\"key\")"
      ],
      "metadata": {
        "execution": {
          "iopub.status.busy": "2022-12-02T15:19:09.862242Z",
          "iopub.execute_input": "2022-12-02T15:19:09.862673Z",
          "iopub.status.idle": "2022-12-02T15:19:10.109119Z",
          "shell.execute_reply.started": "2022-12-02T15:19:09.862638Z",
          "shell.execute_reply": "2022-12-02T15:19:10.107853Z"
        },
        "trusted": true,
        "colab": {
          "base_uri": "https://localhost:8080/",
          "height": 295
        },
        "id": "kgDahi4hLIWQ",
        "outputId": "5b3f51c4-77e5-409d-e201-a2ba8651b23d"
      },
      "execution_count": 29,
      "outputs": [
        {
          "output_type": "display_data",
          "data": {
            "text/plain": [
              "<Figure size 432x288 with 1 Axes>"
            ],
            "image/png": "[encoded data removed]"
          },
          "metadata": {
            "needs_background": "light"
          }
        }
      ]
    },
    {
      "cell_type": "code",
      "source": [
        "plt.figure(figsize = (9, 4))\n",
        "plot_counts(\"Class\")"
      ],
      "metadata": {
        "execution": {
          "iopub.status.busy": "2022-12-02T15:19:10.111136Z",
          "iopub.execute_input": "2022-12-02T15:19:10.112188Z",
          "iopub.status.idle": "2022-12-02T15:19:10.350825Z",
          "shell.execute_reply.started": "2022-12-02T15:19:10.112136Z",
          "shell.execute_reply": "2022-12-02T15:19:10.349732Z"
        },
        "trusted": true,
        "colab": {
          "base_uri": "https://localhost:8080/",
          "height": 295
        },
        "id": "YxFL0kQMLIWQ",
        "outputId": "02d11879-717c-4277-f36c-f621464893fb"
      },
      "execution_count": 30,
      "outputs": [
        {
          "output_type": "display_data",
          "data": {
            "text/plain": [
              "<Figure size 648x288 with 1 Axes>"
            ],
            "image/png": "[encoded data removed]"
          },
          "metadata": {
            "needs_background": "light"
          }
        }
      ]
    },
    {
      "cell_type": "code",
      "source": [
        "df.hist(bins=30, figsize=(20,15))\n",
        "plt.show()"
      ],
      "metadata": {
        "execution": {
          "iopub.status.busy": "2022-12-30T23:51:59.838123Z",
          "iopub.execute_input": "2022-12-30T23:51:59.839500Z",
          "iopub.status.idle": "2022-12-30T23:52:02.719055Z",
          "shell.execute_reply.started": "2022-12-30T23:51:59.839460Z",
          "shell.execute_reply": "2022-12-30T23:52:02.717695Z"
        },
        "trusted": true,
        "colab": {
          "base_uri": "https://localhost:8080/",
          "height": 892
        },
        "id": "XqnFytTOLIWT",
        "outputId": "bee391e0-2866-4e86-f823-1583eefc63fe"
      },
      "execution_count": 31,
      "outputs": [
        {
          "output_type": "display_data",
          "data": {
            "text/plain": [
              "<Figure size 1440x1080 with 16 Axes>"
            ],
            "image/png": "[encoded data removed]"
          },
          "metadata": {
            "needs_background": "light"
          }
        }
      ]
    },
    {
      "cell_type": "code",
      "source": [
        "corr = df.corr()\n",
        "plt.figure(figsize=(20,10))\n",
        "sns.heatmap(corr, cmap='RdBu_r', annot=True, vmax=1, vmin=-1)\n",
        "plt.show()"
      ],
      "metadata": {
        "execution": {
          "iopub.status.busy": "2022-12-02T15:19:15.237459Z",
          "iopub.execute_input": "2022-12-02T15:19:15.237985Z",
          "iopub.status.idle": "2022-12-02T15:19:16.762425Z",
          "shell.execute_reply.started": "2022-12-02T15:19:15.237953Z",
          "shell.execute_reply": "2022-12-02T15:19:16.761217Z"
        },
        "collapsed": true,
        "jupyter": {
          "outputs_hidden": true
        },
        "trusted": true,
        "colab": {
          "base_uri": "https://localhost:8080/",
          "height": 672
        },
        "id": "KJLuAmvuLIWU",
        "outputId": "516b7718-fb2d-49ea-c82a-3da9fe44f37f"
      },
      "execution_count": 32,
      "outputs": [
        {
          "output_type": "display_data",
          "data": {
            "text/plain": [
              "<Figure size 1440x720 with 2 Axes>"
            ],
            "image/png": "[encoded data removed]"
          },
          "metadata": {
            "needs_background": "light"
          }
        }
      ]
    },
    {
      "cell_type": "code",
      "source": [
        "corr['Class'].sort_values(ascending=False) # top 10 with high corr"
      ],
      "metadata": {
        "execution": {
          "iopub.status.busy": "2022-12-02T15:19:16.764005Z",
          "iopub.execute_input": "2022-12-02T15:19:16.764333Z",
          "iopub.status.idle": "2022-12-02T15:19:16.773887Z",
          "shell.execute_reply.started": "2022-12-02T15:19:16.764305Z",
          "shell.execute_reply": "2022-12-02T15:19:16.772568Z"
        },
        "trusted": true,
        "colab": {
          "base_uri": "https://localhost:8080/"
        },
        "id": "1vpoyRFILIWU",
        "outputId": "e7050776-4074-4f16-ba83-96132b82fe90"
      },
      "execution_count": 33,
      "outputs": [
        {
          "output_type": "execute_result",
          "data": {
            "text/plain": [
              "Class               1.000000\n",
              "energy              0.221793\n",
              "duration_in min     0.206087\n",
              "loudness            0.179715\n",
              "Popularity          0.157424\n",
              "time_signature      0.047885\n",
              "tempo               0.031257\n",
              "liveness            0.025976\n",
              "speechiness         0.000868\n",
              "key                -0.005607\n",
              "instrumentalness   -0.030045\n",
              "mode               -0.043988\n",
              "valence            -0.078187\n",
              "danceability       -0.101272\n",
              "acousticness       -0.241116\n",
              "Name: Class, dtype: float64"
            ]
          },
          "metadata": {},
          "execution_count": 33
        }
      ]
    },
    {
      "cell_type": "markdown",
      "source": [
        "##6. implement the SMOTE to handling unbalanced in the dataset"
      ],
      "metadata": {
        "id": "8wWZN__TCiOI"
      }
    },
    {
      "cell_type": "code",
      "source": [
        "from imblearn.over_sampling import SMOTE\n",
        "\n",
        "X = df.drop(\"Class\", axis=1)\n",
        "y = df[\"Class\"]\n",
        "\n",
        "smote = SMOTE(random_state=42)\n",
        "X_resampled, y_resampled = smote.fit_resample(X, y)\n",
        "\n",
        "# Check the class balance after oversampling\n",
        "# print(\"Class balance after oversampling:\")\n",
        "# print(y_resampled.value_counts())"
      ],
      "metadata": {
        "id": "jYw-tEJuChxG"
      },
      "execution_count": 34,
      "outputs": []
    },
    {
      "cell_type": "code",
      "source": [
        "y_resampled.value_counts()"
      ],
      "metadata": {
        "colab": {
          "base_uri": "https://localhost:8080/"
        },
        "id": "av-VfQ5XKiGb",
        "outputId": "87eab255-dcd5-4fcc-8358-88e208e66c38"
      },
      "execution_count": 35,
      "outputs": [
        {
          "output_type": "execute_result",
          "data": {
            "text/plain": [
              "3     3946\n",
              "5     3946\n",
              "6     3946\n",
              "9     3946\n",
              "1     3946\n",
              "10    3946\n",
              "0     3946\n",
              "7     3946\n",
              "2     3946\n",
              "8     3946\n",
              "4     3946\n",
              "Name: Class, dtype: int64"
            ]
          },
          "metadata": {},
          "execution_count": 35
        }
      ]
    },
    {
      "cell_type": "markdown",
      "source": [
        "## 7. Feature Scaling"
      ],
      "metadata": {
        "id": "6q7f5zfULIWZ"
      }
    },
    {
      "cell_type": "code",
      "source": [
        "X=df.drop(columns='Class')\n",
        "y=df['Class']\n",
        "#__________________________________________________________________________________________\n",
        "# select k best\n",
        "from sklearn.feature_selection import SelectKBest, mutual_info_regression\n",
        "\n",
        "selector = SelectKBest(score_func=mutual_info_regression, k=10)\n",
        "X_selected = selector.fit_transform(X_resampled, y_resampled)\n",
        "# Check the selected features\n",
        "print(\"Selected features:\")\n",
        "print(X.columns[selector.get_support()])\n",
        "\n",
        "#__________________________________________________________________________________________\n",
        "X_train, X_test, y_train, y_test = train_test_split(X_selected,y_resampled, test_size=0.2)\n",
        "\n",
        "st_x= StandardScaler()  \n",
        "\n",
        "X_train= st_x.fit_transform(X_train)\n",
        " \n",
        "X_test= st_x.transform(X_test) "
      ],
      "metadata": {
        "execution": {
          "iopub.status.busy": "2022-12-02T15:19:33.527591Z",
          "iopub.execute_input": "2022-12-02T15:19:33.528380Z",
          "iopub.status.idle": "2022-12-02T15:19:33.554137Z",
          "shell.execute_reply.started": "2022-12-02T15:19:33.528327Z",
          "shell.execute_reply": "2022-12-02T15:19:33.552893Z"
        },
        "trusted": true,
        "colab": {
          "base_uri": "https://localhost:8080/"
        },
        "id": "c30KmgCmLIWa",
        "outputId": "00fec2bb-6f43-4201-a4ba-a05c27563507"
      },
      "execution_count": 43,
      "outputs": [
        {
          "output_type": "stream",
          "name": "stdout",
          "text": [
            "Selected features:\n",
            "Index(['Popularity', 'danceability', 'energy', 'loudness', 'speechiness',\n",
            "       'acousticness', 'instrumentalness', 'liveness', 'valence',\n",
            "       'duration_in min'],\n",
            "      dtype='object')\n"
          ]
        }
      ]
    },
    {
      "cell_type": "markdown",
      "source": [
        "# Models"
      ],
      "metadata": {
        "id": "djhT6gHxLIWb"
      }
    },
    {
      "cell_type": "markdown",
      "source": [
        "## LazyClassifier"
      ],
      "metadata": {
        "id": "YwEXjdFuLIWc"
      }
    },
    {
      "cell_type": "code",
      "source": [
        "pip install lazypredict"
      ],
      "metadata": {
        "execution": {
          "iopub.status.busy": "2022-12-01T19:59:43.651737Z",
          "iopub.execute_input": "2022-12-01T19:59:43.652138Z",
          "iopub.status.idle": "2022-12-01T19:59:55.380481Z",
          "shell.execute_reply.started": "2022-12-01T19:59:43.652108Z",
          "shell.execute_reply": "2022-12-01T19:59:55.379399Z"
        },
        "trusted": true,
        "colab": {
          "base_uri": "https://localhost:8080/"
        },
        "id": "vnMLx26bLIW7",
        "outputId": "1152d16e-3446-41b9-d40d-442712cd767d"
      },
      "execution_count": 32,
      "outputs": [
        {
          "output_type": "stream",
          "name": "stdout",
          "text": [
            "Looking in indexes: https://pypi.org/simple, https://us-python.pkg.dev/colab-wheels/public/simple/\n",
            "Requirement already satisfied: lazypredict in /usr/local/lib/python3.8/dist-packages (0.2.12)\n",
            "Requirement already satisfied: tqdm in /usr/local/lib/python3.8/dist-packages (from lazypredict) (4.64.1)\n",
            "Requirement already satisfied: xgboost in /usr/local/lib/python3.8/dist-packages (from lazypredict) (0.90)\n",
            "Requirement already satisfied: joblib in /usr/local/lib/python3.8/dist-packages (from lazypredict) (1.2.0)\n",
            "Requirement already satisfied: click in /usr/local/lib/python3.8/dist-packages (from lazypredict) (7.1.2)\n",
            "Requirement already satisfied: lightgbm in /usr/local/lib/python3.8/dist-packages (from lazypredict) (2.2.3)\n",
            "Requirement already satisfied: scikit-learn in /usr/local/lib/python3.8/dist-packages (from lazypredict) (1.0.2)\n",
            "Requirement already satisfied: pandas in /usr/local/lib/python3.8/dist-packages (from lazypredict) (1.3.5)\n",
            "Requirement already satisfied: numpy in /usr/local/lib/python3.8/dist-packages (from lightgbm->lazypredict) (1.21.6)\n",
            "Requirement already satisfied: scipy in /usr/local/lib/python3.8/dist-packages (from lightgbm->lazypredict) (1.7.3)\n",
            "Requirement already satisfied: python-dateutil>=2.7.3 in /usr/local/lib/python3.8/dist-packages (from pandas->lazypredict) (2.8.2)\n",
            "Requirement already satisfied: pytz>=2017.3 in /usr/local/lib/python3.8/dist-packages (from pandas->lazypredict) (2022.6)\n",
            "Requirement already satisfied: six>=1.5 in /usr/local/lib/python3.8/dist-packages (from python-dateutil>=2.7.3->pandas->lazypredict) (1.15.0)\n",
            "Requirement already satisfied: threadpoolctl>=2.0.0 in /usr/local/lib/python3.8/dist-packages (from scikit-learn->lazypredict) (3.1.0)\n"
          ]
        }
      ]
    },
    {
      "cell_type": "code",
      "source": [
        "from lazypredict.Supervised import LazyClassifier\n",
        "\n",
        "clf = LazyClassifier(verbose=0,predictions=True)\n",
        "models,predictions = clf.fit(X_train, X_test, y_train, y_test)\n",
        "models"
      ],
      "metadata": {
        "execution": {
          "iopub.status.busy": "2022-12-01T19:59:55.382045Z",
          "iopub.execute_input": "2022-12-01T19:59:55.382331Z",
          "iopub.status.idle": "2022-12-01T20:01:11.399730Z",
          "shell.execute_reply.started": "2022-12-01T19:59:55.382304Z",
          "shell.execute_reply": "2022-12-01T20:01:11.398850Z"
        },
        "trusted": true,
        "id": "vnIG3Uc2LIW8"
      },
      "execution_count": 54,
      "outputs": []
    },
    {
      "cell_type": "markdown",
      "source": [
        "## LGBMClassifier"
      ],
      "metadata": {
        "id": "yKuMbarZLIW9"
      }
    },
    {
      "cell_type": "code",
      "source": [
        "LGBMC = LGBMClassifier()\n",
        "LGBMC.fit(X_train, y_train)\n",
        "ypred = LGBMC.predict(X_test)\n",
        "\n",
        "print(f\"Accuracy: {accuracy_score(y_test,ypred)}\")\n",
        "print('F1: {:.5f}'.format(f1_score(y_test, ypred,average='weighted')))"
      ],
      "metadata": {
        "execution": {
          "iopub.status.busy": "2022-12-01T20:01:21.865310Z",
          "iopub.execute_input": "2022-12-01T20:01:21.865738Z",
          "iopub.status.idle": "2022-12-01T20:01:23.917483Z",
          "shell.execute_reply.started": "2022-12-01T20:01:21.865702Z",
          "shell.execute_reply": "2022-12-01T20:01:23.916733Z"
        },
        "trusted": true,
        "colab": {
          "base_uri": "https://localhost:8080/"
        },
        "id": "LSgT3FHDLIW-",
        "outputId": "34cb3c93-4c35-4764-e514-938bf350ff3a"
      },
      "execution_count": 44,
      "outputs": [
        {
          "output_type": "stream",
          "name": "stdout",
          "text": [
            "Accuracy: 0.724026721953467\n",
            "F1: 0.71645\n"
          ]
        }
      ]
    },
    {
      "cell_type": "markdown",
      "source": [
        "### LGBMClassifier hyperparameter tuning using GridSearchCV"
      ],
      "metadata": {
        "id": "bGDze00gLIW_"
      }
    },
    {
      "cell_type": "code",
      "source": [
        "param_grid = {\n",
        "    'num_leaves': [31, 127],\n",
        "    'reg_alpha': [0.1, 0.5],\n",
        "    'min_data_in_leaf': [30, 50, 100, 300, 400],\n",
        "    'lambda_l1': [1.5],\n",
        "    'lambda_l2': [1]\n",
        "    }\n",
        "lgb_estimator = LGBMClassifier()\n",
        "\n",
        "gsearch = GridSearchCV(estimator=lgb_estimator, param_grid=param_grid,scoring=\"accuracy\" ,cv=10)\n",
        "lgb_model = gsearch.fit(X=X_train, y=y_train)\n",
        "\n",
        "print(\"best_params=\",lgb_model.best_params_)\n",
        "print(\"best_score=\",lgb_model.best_score_)\n",
        "\n",
        "ypred = gsearch.predict(X_test)\n",
        "print(f\"Accuracy: {accuracy_score(y_test,ypred)}\")\n",
        "print('F1: {:.5f}'.format(f1_score(y_test, ypred,average='weighted')))"
      ],
      "metadata": {
        "execution": {
          "iopub.status.busy": "2022-11-23T12:39:03.433627Z",
          "iopub.execute_input": "2022-11-23T12:39:03.434760Z",
          "iopub.status.idle": "2022-11-23T12:48:58.300078Z",
          "shell.execute_reply.started": "2022-11-23T12:39:03.434712Z",
          "shell.execute_reply": "2022-11-23T12:48:58.298891Z"
        },
        "collapsed": true,
        "jupyter": {
          "outputs_hidden": true
        },
        "trusted": true,
        "id": "cVs-RDU0LIXA"
      },
      "execution_count": null,
      "outputs": []
    },
    {
      "cell_type": "code",
      "source": [
        "# hyperparameter tuning using RandomizedSearchCV\n",
        "\n",
        "lgb=LGBMClassifier()\n",
        "#Define the parameters\n",
        "parameters = {'num_leaves':[20,40,60,80,100], 'min_child_samples':[5,10,15],'max_depth':[-1,5,10,20],\n",
        "             'learning_rate':[0.05,0.1,0.2],'reg_alpha':[0,0.01,0.03]}\n",
        "\n",
        "cv = RepeatedStratifiedKFold(n_splits=10, n_repeats=3)\n",
        "clf=RandomizedSearchCV(lgb,param_distributions=parameters,scoring='accuracy',cv=cv,n_iter=5)\n",
        "clf.fit(X=X_train, y=y_train)\n",
        "\n",
        "print(\"best_params=\",clf.best_params_)\n",
        "print(\"best_score=\",clf.best_score_)\n",
        "\n",
        "ypred = clf.predict(X_test)\n",
        "print(f\"Accuracy: {accuracy_score(y_test,ypred)}\")\n",
        "print('F1: {:.5f}'.format(f1_score(y_test, ypred,average='weighted')))"
      ],
      "metadata": {
        "execution": {
          "iopub.status.busy": "2022-11-24T06:01:07.763835Z",
          "iopub.execute_input": "2022-11-24T06:01:07.764961Z",
          "iopub.status.idle": "2022-11-24T06:12:02.204811Z",
          "shell.execute_reply.started": "2022-11-24T06:01:07.764919Z",
          "shell.execute_reply": "2022-11-24T06:12:02.203867Z"
        },
        "trusted": true,
        "colab": {
          "base_uri": "https://localhost:8080/"
        },
        "id": "LYtxeAbmLIXD",
        "outputId": "3fbc10c8-e0ed-425d-da71-6bf50940164f"
      },
      "execution_count": 48,
      "outputs": [
        {
          "output_type": "stream",
          "name": "stdout",
          "text": [
            "best_params= {'reg_alpha': 0, 'num_leaves': 100, 'min_child_samples': 15, 'max_depth': -1, 'learning_rate': 0.1}\n",
            "best_score= 0.7572860481095555\n",
            "Accuracy: 0.7543192812715964\n",
            "F1: 0.74920\n"
          ]
        }
      ]
    },
    {
      "cell_type": "markdown",
      "source": [
        "## XGBClassifier"
      ],
      "metadata": {
        "id": "gSlM0B95LIXG"
      }
    },
    {
      "cell_type": "code",
      "source": [
        "xgb_clf =XGBClassifier()\n",
        "xgb_clf.fit(X_train,y_train)\n",
        "\n",
        "ypred = xgb_clf.predict(X_test)\n",
        "print(f\"Accuracy: {accuracy_score(y_test,ypred)}\")\n",
        "print('F1: {:.5f}'.format(f1_score(y_test, ypred,average='weighted')))"
      ],
      "metadata": {
        "execution": {
          "iopub.status.busy": "2022-11-27T17:00:38.959410Z",
          "iopub.execute_input": "2022-11-27T17:00:38.960434Z",
          "iopub.status.idle": "2022-11-27T17:00:51.380457Z",
          "shell.execute_reply.started": "2022-11-27T17:00:38.960381Z",
          "shell.execute_reply": "2022-11-27T17:00:51.379259Z"
        },
        "trusted": true,
        "colab": {
          "base_uri": "https://localhost:8080/"
        },
        "id": "-OKPzjgpLIXH",
        "outputId": "01fad77a-f573-4143-e3a9-03629c229efe"
      },
      "execution_count": 32,
      "outputs": [
        {
          "output_type": "stream",
          "name": "stdout",
          "text": [
            "Accuracy: 0.681870536742686\n",
            "F1: 0.67134\n"
          ]
        }
      ]
    },
    {
      "cell_type": "code",
      "source": [
        "params = {\n",
        "    'n_estimators':[100, 300, 500, 800, 1200],\n",
        "    'min_child_weight':[4,5], \n",
        "    'gamma':[i/10.0 for i in range(3,6)],              ## [0.3,0.4,0.5]\n",
        "    'subsample':[i/10.0 for i in range(6,11)],         ## [0.6 ,0.7 ,0.8 ,0.9, 1.0]\n",
        "    'colsample_bytree':[i/10.0 for i in range(6,11)],  ## [0.6 ,0.7 ,0.8 ,0.9, 1.0]\n",
        "    'max_depth': [2,3,4,6,7],\n",
        "    'objective': ['multi:softmax', 'multi:softprob'],\n",
        "    'eta': [i/10.0 for i in range(3,6)] ,             ## [0.3,0.4,0.5]\n",
        "    \"random_state\":[i for i in range(1,51)]} \n",
        "\n",
        "model = XGBClassifier(nthread=-1,num_class=11,booster='gbtree',eval_metric='merror')\n",
        "cv = RepeatedStratifiedKFold(n_splits=10, n_repeats=3)\n",
        "\n",
        "random_searchXGB = RandomizedSearchCV(model, param_distributions=params,\n",
        "                                   n_iter=10 ,cv=cv,scoring='neg_mean_squared_error')\n",
        "\n",
        "xgb_result= random_searchXGB.fit(X_train, y_train)\n",
        "# summarize results\n",
        "print(\"Best: %f using %s\" % (xgb_result.best_score_, xgb_result.best_params_))\n",
        "print(\"_______________________________________________________________________________________\")\n",
        "y_pred = random_searchXGB.predict(X_test)\n",
        "\n",
        "print(f\"Accuracy: {accuracy_score(y_test,y_pred)}\")\n",
        "print('F1: {:.5f}'.format(f1_score(y_test, y_pred,average='weighted')))"
      ],
      "metadata": {
        "execution": {
          "iopub.status.busy": "2022-11-27T17:48:52.247245Z",
          "iopub.execute_input": "2022-11-27T17:48:52.248173Z",
          "iopub.status.idle": "2022-11-27T17:48:52.254858Z",
          "shell.execute_reply.started": "2022-11-27T17:48:52.248132Z",
          "shell.execute_reply": "2022-11-27T17:48:52.253206Z"
        },
        "trusted": true,
        "id": "tnOrC1yDLIXf"
      },
      "execution_count": null,
      "outputs": []
    },
    {
      "cell_type": "markdown",
      "source": [
        "## RandomForestClassifier"
      ],
      "metadata": {
        "id": "tCCfK6x2LIXg"
      }
    },
    {
      "cell_type": "code",
      "source": [
        "model=RandomForestClassifier()\n",
        "model.fit(X_train,y_train)\n",
        "\n",
        "y_pred=model.predict(X_test)\n",
        "    \n",
        "print('F1: {:.5f}'.format(f1_score(y_test, y_pred,average='weighted')))    "
      ],
      "metadata": {
        "execution": {
          "iopub.status.busy": "2022-11-25T12:26:30.919360Z",
          "iopub.execute_input": "2022-11-25T12:26:30.920035Z",
          "iopub.status.idle": "2022-11-25T12:26:36.201253Z",
          "shell.execute_reply.started": "2022-11-25T12:26:30.919979Z",
          "shell.execute_reply": "2022-11-25T12:26:36.200451Z"
        },
        "trusted": true,
        "colab": {
          "base_uri": "https://localhost:8080/"
        },
        "id": "HtV3T0DpLIXg",
        "outputId": "a86785cc-5a24-41ff-e854-54e744a60819"
      },
      "execution_count": 45,
      "outputs": [
        {
          "output_type": "stream",
          "name": "stdout",
          "text": [
            "F1: 0.75480\n"
          ]
        }
      ]
    },
    {
      "cell_type": "code",
      "source": [
        "n_estimators = [100, 300, 500, 800, 1200]\n",
        "max_depth = [5, 8, 15, 25, 30]\n",
        "min_samples_split = [2, 5, 10, 15, 100]\n",
        "min_samples_leaf = [1, 2, 5, 10] \n",
        "Model2=RandomForestClassifier()\n",
        "hyperF = dict(n_estimators = n_estimators, max_depth = max_depth,  \n",
        "              min_samples_split = min_samples_split, \n",
        "             min_samples_leaf = min_samples_leaf)\n",
        "\n",
        "gridF = RandomizedSearchCV(estimator=Model2,param_distributions=hyperF, cv = 5, verbose = 1, n_jobs = -1, \n",
        "                           scoring='neg_mean_squared_error',error_score=0,n_iter=5)       #RandomizedSearchCV\n",
        "\n",
        "            \n",
        "bestF = gridF.fit(X_train, y_train)"
      ],
      "metadata": {
        "execution": {
          "iopub.status.busy": "2022-11-25T11:43:52.540307Z",
          "iopub.execute_input": "2022-11-25T11:43:52.540713Z",
          "iopub.status.idle": "2022-11-25T12:04:04.504876Z",
          "shell.execute_reply.started": "2022-11-25T11:43:52.540664Z",
          "shell.execute_reply": "2022-11-25T12:04:04.503063Z"
        },
        "trusted": true,
        "colab": {
          "base_uri": "https://localhost:8080/"
        },
        "id": "ZWkDpwfHLIXi",
        "outputId": "86b2526e-5ced-4208-95c7-44ef335b9e8d"
      },
      "execution_count": 50,
      "outputs": [
        {
          "output_type": "stream",
          "name": "stdout",
          "text": [
            "Fitting 5 folds for each of 5 candidates, totalling 25 fits\n"
          ]
        },
        {
          "output_type": "stream",
          "name": "stderr",
          "text": [
            "/usr/local/lib/python3.8/dist-packages/joblib/externals/loky/process_executor.py:700: UserWarning: A worker stopped while some jobs were given to the executor. This can be caused by a too short worker timeout or by a memory leak.\n",
            "  warnings.warn(\n"
          ]
        }
      ]
    },
    {
      "cell_type": "code",
      "source": [
        "y_pred=gridF.predict(X_test)\n",
        "\n",
        "print(f\"Accuracy: {accuracy_score(y_test,y_pred)}\")\n",
        "print('F1: {:.5f}'.format(f1_score(y_test, y_pred,average='weighted'))) \n",
        "print(\"best_params=\",gridF.best_params_)\n",
        "print(\"best_score=\",gridF.best_score_)\n"
      ],
      "metadata": {
        "execution": {
          "iopub.status.busy": "2022-11-25T12:04:04.507116Z",
          "iopub.execute_input": "2022-11-25T12:04:04.507505Z",
          "iopub.status.idle": "2022-11-25T12:04:05.650489Z",
          "shell.execute_reply.started": "2022-11-25T12:04:04.507468Z",
          "shell.execute_reply": "2022-11-25T12:04:05.648578Z"
        },
        "trusted": true,
        "colab": {
          "base_uri": "https://localhost:8080/"
        },
        "id": "zrOvrOmvLIXi",
        "outputId": "1b6d91a9-aaca-4320-9891-4a7348a42a3e"
      },
      "execution_count": 51,
      "outputs": [
        {
          "output_type": "stream",
          "name": "stdout",
          "text": [
            "Accuracy: 0.764800737157337\n",
            "F1: 0.75689\n",
            "best_params= {'n_estimators': 800, 'min_samples_split': 2, 'min_samples_leaf': 1, 'max_depth': 30}\n",
            "best_score= -6.3034513317275636\n"
          ]
        }
      ]
    },
    {
      "cell_type": "markdown",
      "source": [
        "## ExtraTreesClassifier"
      ],
      "metadata": {
        "id": "ZZZDo4IdLIXj"
      }
    },
    {
      "cell_type": "code",
      "source": [
        "ETC = ExtraTreesClassifier()\n",
        "ETC.fit(X_train, y_train)\n",
        "\n",
        "y_pred = ETC.predict(X_test)\n",
        "\n",
        "print(f\"Accuracy: {accuracy_score(y_test,y_pred)}\")\n",
        "print('F1: {:.5f}'.format(f1_score(y_test, y_pred,average='weighted')))"
      ],
      "metadata": {
        "execution": {
          "iopub.status.busy": "2022-11-23T15:26:51.656055Z",
          "iopub.execute_input": "2022-11-23T15:26:51.657100Z",
          "iopub.status.idle": "2022-11-23T15:26:54.175325Z",
          "shell.execute_reply.started": "2022-11-23T15:26:51.657042Z",
          "shell.execute_reply": "2022-11-23T15:26:54.174103Z"
        },
        "trusted": true,
        "colab": {
          "base_uri": "https://localhost:8080/"
        },
        "id": "5pEGL70uLIXj",
        "outputId": "507ba10a-a166-402a-cdb8-42491b797c91"
      },
      "execution_count": 53,
      "outputs": [
        {
          "output_type": "stream",
          "name": "stdout",
          "text": [
            "Accuracy: 0.7698686938493434\n",
            "F1: 0.76060\n"
          ]
        }
      ]
    },
    {
      "cell_type": "markdown",
      "source": [
        "## SVC"
      ],
      "metadata": {
        "id": "ML6EAYkTLIXk"
      }
    },
    {
      "cell_type": "code",
      "source": [
        "modelSVC = SVC()\n",
        "modelSVC.fit(X_train, y_train)\n",
        "\n",
        "y_pred = modelSVC.predict(X_test)\n",
        "\n",
        "print(f\"Accuracy: {accuracy_score(y_test,y_pred)}\")\n",
        "print('F1: {:.5f}'.format(f1_score(y_test, y_pred,average='weighted')))"
      ],
      "metadata": {
        "execution": {
          "iopub.status.busy": "2022-11-23T15:26:57.369694Z",
          "iopub.execute_input": "2022-11-23T15:26:57.370107Z",
          "iopub.status.idle": "2022-11-23T15:27:06.810752Z",
          "shell.execute_reply.started": "2022-11-23T15:26:57.370073Z",
          "shell.execute_reply": "2022-11-23T15:27:06.809660Z"
        },
        "trusted": true,
        "colab": {
          "base_uri": "https://localhost:8080/"
        },
        "id": "6qiMLuBlLIXk",
        "outputId": "73a22639-0291-4224-cd93-bf8880a4d012"
      },
      "execution_count": 39,
      "outputs": [
        {
          "output_type": "stream",
          "name": "stdout",
          "text": [
            "Accuracy: 0.7030638101819857\n",
            "F1: 0.69266\n"
          ]
        }
      ]
    },
    {
      "cell_type": "markdown",
      "source": [
        "## HistGradientBoostingClassifier"
      ],
      "metadata": {
        "id": "RxFDytDNLIXl"
      }
    },
    {
      "cell_type": "code",
      "source": [
        "clf = HistGradientBoostingClassifier()\n",
        "clf.fit(X_train, y_train)\n",
        "y_pred = clf.predict(X_test)\n",
        "print(f\"Accuracy: {accuracy_score(y_test,y_pred)}\")\n",
        "print('F1: {:.5f}'.format(f1_score(y_test, y_pred,average='weighted')))"
      ],
      "metadata": {
        "execution": {
          "iopub.status.busy": "2022-11-24T14:26:54.016343Z",
          "iopub.execute_input": "2022-11-24T14:26:54.016766Z",
          "iopub.status.idle": "2022-11-24T14:26:56.978166Z",
          "shell.execute_reply.started": "2022-11-24T14:26:54.016733Z",
          "shell.execute_reply": "2022-11-24T14:26:56.977084Z"
        },
        "trusted": true,
        "id": "E22peYBeLIXl"
      },
      "execution_count": 57,
      "outputs": []
    },
    {
      "cell_type": "markdown",
      "source": [
        "## BaggingClassifier"
      ],
      "metadata": {
        "id": "RubifX4TLIXo"
      }
    },
    {
      "cell_type": "code",
      "source": [
        "BCM = BaggingClassifier()\n",
        "BCM.fit(X_train, y_train)\n",
        "\n",
        "y_pred = BCM.predict(X_test)\n",
        "\n",
        "print(f\"Accuracy: {accuracy_score(y_test,y_pred)}\")\n",
        "print('F1: {:.3f}'.format(f1_score(y_test, y_pred,average='weighted')))"
      ],
      "metadata": {
        "execution": {
          "iopub.status.busy": "2022-11-23T14:16:25.591707Z",
          "iopub.execute_input": "2022-11-23T14:16:25.592089Z",
          "iopub.status.idle": "2022-11-23T14:16:27.318140Z",
          "shell.execute_reply.started": "2022-11-23T14:16:25.592057Z",
          "shell.execute_reply": "2022-11-23T14:16:27.317061Z"
        },
        "trusted": true,
        "id": "zF-uVF6MLIXp",
        "outputId": "9fb7d94d-b9ee-4578-e809-e8ab468242ed"
      },
      "execution_count": null,
      "outputs": [
        {
          "name": "stdout",
          "text": "Accuracy: 0.5037037037037037\nF1: 0.497\n",
          "output_type": "stream"
        }
      ]
    },
    {
      "cell_type": "markdown",
      "source": [
        "## AdaBoostClassifier"
      ],
      "metadata": {
        "id": "MEXf--DPLIXp"
      }
    },
    {
      "cell_type": "code",
      "source": [
        "ada_clf = AdaBoostClassifier(\n",
        "    RandomForestClassifier(max_depth=10), n_estimators=100, learning_rate=0.1, random_state=42)\n",
        "ada_clf.fit(X_train, y_train)\n",
        "y_pred = ada_clf.predict(X_test)\n",
        "accuracy_score(y_test, y_pred)"
      ],
      "metadata": {
        "execution": {
          "iopub.status.busy": "2022-11-24T22:29:31.460550Z",
          "iopub.execute_input": "2022-11-24T22:29:31.461113Z",
          "iopub.status.idle": "2022-11-24T22:35:05.239748Z",
          "shell.execute_reply.started": "2022-11-24T22:29:31.461066Z",
          "shell.execute_reply": "2022-11-24T22:35:05.238502Z"
        },
        "trusted": true,
        "id": "37h6axZZLIXq",
        "outputId": "eb1a0cb7-6a8f-40f9-b406-4df20d27c04e"
      },
      "execution_count": null,
      "outputs": [
        {
          "execution_count": 41,
          "output_type": "execute_result",
          "data": {
            "text/plain": "0.5253472222222222"
          },
          "metadata": {}
        }
      ]
    },
    {
      "cell_type": "markdown",
      "source": [
        "## GradientBoostingClassifier"
      ],
      "metadata": {
        "id": "vGhjssobLIXr"
      }
    },
    {
      "cell_type": "code",
      "source": [
        "modelGBC =GradientBoostingClassifier(learning_rate=0.01, max_depth=4, n_estimators=800,subsample=0.6)\n",
        "modelGBC.fit(X_train,y_train)\n",
        "\n",
        "y_pred = modelGBC.predict(X_test)\n",
        "\n",
        "print(f\"Accuracy: {accuracy_score(y_test,y_pred)}\")\n",
        "print('F1: {:.5f}'.format(f1_score(y_test, y_pred,average='weighted')))"
      ],
      "metadata": {
        "execution": {
          "iopub.status.busy": "2022-12-02T15:19:49.723241Z",
          "iopub.execute_input": "2022-12-02T15:19:49.723701Z",
          "iopub.status.idle": "2022-12-02T15:25:41.542639Z",
          "shell.execute_reply.started": "2022-12-02T15:19:49.723666Z",
          "shell.execute_reply": "2022-12-02T15:25:41.541415Z"
        },
        "trusted": true,
        "colab": {
          "base_uri": "https://localhost:8080/"
        },
        "id": "OQaqXQgkLIXs",
        "outputId": "f7e38bdb-9270-4842-ca6b-8a4d02802677"
      },
      "execution_count": 38,
      "outputs": [
        {
          "output_type": "stream",
          "name": "stdout",
          "text": [
            "Accuracy: 0.7151577977424557\n",
            "F1: 0.70802\n"
          ]
        }
      ]
    },
    {
      "cell_type": "markdown",
      "source": [
        "## KNeighborsClassifier"
      ],
      "metadata": {
        "id": "7uBkmc8eLIXs"
      }
    },
    {
      "cell_type": "code",
      "source": [
        "modelKNN = KNeighborsClassifier()\n",
        "modelKNN.fit(X_train,y_train)\n",
        "\n",
        "y_pred=modelKNN.predict(X_test)\n",
        "print(f\"Accuracy: {accuracy_score(y_test,y_pred)}\")\n",
        "print('F1: {:.5f}'.format(f1_score(y_test, y_pred,average='weighted')))"
      ],
      "metadata": {
        "execution": {
          "iopub.status.busy": "2022-11-23T15:27:38.097212Z",
          "iopub.execute_input": "2022-11-23T15:27:38.097655Z",
          "iopub.status.idle": "2022-11-23T15:27:39.123068Z",
          "shell.execute_reply.started": "2022-11-23T15:27:38.097617Z",
          "shell.execute_reply": "2022-11-23T15:27:39.121762Z"
        },
        "trusted": true,
        "id": "0YN5NsrYLIXs"
      },
      "execution_count": 55,
      "outputs": []
    },
    {
      "cell_type": "code",
      "source": [
        "model = KNeighborsClassifier()\n",
        "n_neighbors = range(1, 50, 2)\n",
        "weights = ['uniform', 'distance']\n",
        "metric = ['euclidean', 'manhattan', 'minkowski']\n",
        "# define Rand search\n",
        "Rand = dict(n_neighbors=n_neighbors,weights=weights,metric=metric)\n",
        "\n",
        "Rand_searchKNN = RandomizedSearchCV(estimator=model, param_distributions=Rand, n_jobs=-1, cv=10,\n",
        "                                    scoring='neg_mean_squared_error',error_score=0,n_iter=50)\n",
        "\n",
        "Rand_result = Rand_searchKNN.fit(X_train, y_train)\n",
        "# summarize results\n",
        "print(\"Best: %f using %s\" % (Rand_result.best_score_, Rand_result.best_params_))\n",
        "\n",
        "y_pred=Rand_searchKNN.predict(X_test)\n",
        "print(f\"Accuracy: {accuracy_score(y_test,y_pred)}\")\n",
        "print('F1: {:.5f}'.format(f1_score(y_test, y_pred,average='weighted')))"
      ],
      "metadata": {
        "execution": {
          "iopub.status.busy": "2022-11-23T15:27:59.439335Z",
          "iopub.execute_input": "2022-11-23T15:27:59.439767Z",
          "iopub.status.idle": "2022-11-23T15:29:18.217441Z",
          "shell.execute_reply.started": "2022-11-23T15:27:59.439729Z",
          "shell.execute_reply": "2022-11-23T15:29:18.216037Z"
        },
        "trusted": true,
        "id": "hr5FF0NpLIXt"
      },
      "execution_count": 56,
      "outputs": []
    },
    {
      "cell_type": "markdown",
      "source": [
        "## VotingClassifier"
      ],
      "metadata": {
        "id": "9dcmHr7bLIXu"
      }
    },
    {
      "cell_type": "code",
      "source": [
        "LGB_clf = LGBMClassifier(lambda_l1= 1.5, lambda_l2=1, min_data_in_leaf=400, num_leaves=31, reg_alpha=0.1)\n",
        "\n",
        "Histclasifer=HistGradientBoostingClassifier(learning_rate=0.1, max_leaf_nodes=10)\n",
        "\n",
        "rnd_clf = RandomForestClassifier(n_estimators=100)\n",
        "\n",
        "svm_clf = SVC(kernel= 'rbf',gamma='scale', C=1.0)\n",
        "\n",
        "GB_clf = GradientBoostingClassifier(learning_rate=0.01, max_depth=4, n_estimators=800,subsample=0.6)\n",
        "\n",
        "xgb_clf =XGBClassifier()\n",
        "\n",
        "ETC = ExtraTreesClassifier()\n",
        "\n",
        "voting_clf = VotingClassifier(\n",
        "    estimators=[('LGB', LGB_clf), ('rf', rnd_clf),('svm',svm_clf),(\"GB\",GB_clf),(\"HG\",Histclasifer),(\"xgb\",xgb_clf),(\"etc\",ETC)],\n",
        "    voting='hard')\n",
        "# voting_clf.fit(X_train, y_train)\n",
        "\n",
        "for clf in (LGB_clf, rnd_clf,svm_clf,GB_clf,Histclasifer,xgb_clf,ETC, voting_clf):\n",
        "    clf.fit(X_train, y_train)\n",
        "    y_pred = clf.predict(X_test)\n",
        "    print(f\"reuslt of {clf}\")\n",
        "    print(f\"Accuracy: {accuracy_score(y_test,y_pred)}\")\n",
        "    print('F1: {:.5f}'.format(f1_score(y_test, y_pred,average='weighted')))\n",
        "    print(\"____________________________________________________\")"
      ],
      "metadata": {
        "execution": {
          "iopub.status.busy": "2022-11-27T10:25:45.203859Z",
          "iopub.execute_input": "2022-11-27T10:25:45.204264Z",
          "iopub.status.idle": "2022-11-27T10:39:22.244674Z",
          "shell.execute_reply.started": "2022-11-27T10:25:45.204231Z",
          "shell.execute_reply": "2022-11-27T10:39:22.243496Z"
        },
        "trusted": true,
        "colab": {
          "base_uri": "https://localhost:8080/"
        },
        "id": "Xj1faB2TLIXv",
        "outputId": "c5e6f910-3a8a-4196-c6aa-e590e3610116"
      },
      "execution_count": 52,
      "outputs": [
        {
          "output_type": "stream",
          "name": "stdout",
          "text": [
            "reuslt of LGBMClassifier(lambda_l1=1.5, lambda_l2=1, min_data_in_leaf=400, reg_alpha=0.1)\n",
            "Accuracy: 0.7036397143515319\n",
            "F1: 0.69634\n",
            "____________________________________________________\n",
            "reuslt of RandomForestClassifier()\n",
            "Accuracy: 0.7593872379636029\n",
            "F1: 0.75134\n",
            "____________________________________________________\n",
            "reuslt of SVC()\n",
            "Accuracy: 0.6734623358673116\n",
            "F1: 0.66302\n",
            "____________________________________________________\n",
            "reuslt of GradientBoostingClassifier(learning_rate=0.01, max_depth=4, n_estimators=800,\n",
            "                           subsample=0.6)\n",
            "Accuracy: 0.6882054826076941\n",
            "F1: 0.67942\n",
            "____________________________________________________\n",
            "reuslt of HistGradientBoostingClassifier(max_leaf_nodes=10)\n",
            "Accuracy: 0.7004146510020732\n",
            "F1: 0.69242\n",
            "____________________________________________________\n",
            "reuslt of XGBClassifier(objective='multi:softprob')\n",
            "Accuracy: 0.6614835291407509\n",
            "F1: 0.64858\n",
            "____________________________________________________\n",
            "reuslt of ExtraTreesClassifier()\n",
            "Accuracy: 0.7707901405206173\n",
            "F1: 0.76109\n",
            "____________________________________________________\n",
            "reuslt of VotingClassifier(estimators=[('LGB',\n",
            "                              LGBMClassifier(lambda_l1=1.5, lambda_l2=1,\n",
            "                                             min_data_in_leaf=400,\n",
            "                                             reg_alpha=0.1)),\n",
            "                             ('rf', RandomForestClassifier()), ('svm', SVC()),\n",
            "                             ('GB',\n",
            "                              GradientBoostingClassifier(learning_rate=0.01,\n",
            "                                                         max_depth=4,\n",
            "                                                         n_estimators=800,\n",
            "                                                         subsample=0.6)),\n",
            "                             ('HG',\n",
            "                              HistGradientBoostingClassifier(max_leaf_nodes=10)),\n",
            "                             ('xgb', XGBClassifier(objective='multi:softprob')),\n",
            "                             ('etc', ExtraTreesClassifier())])\n",
            "Accuracy: 0.7131997235659986\n",
            "F1: 0.70295\n",
            "____________________________________________________\n"
          ]
        }
      ]
    }
  ]
}